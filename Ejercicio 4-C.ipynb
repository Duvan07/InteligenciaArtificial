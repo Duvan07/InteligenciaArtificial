{
 "cells": [
  {
   "cell_type": "code",
   "execution_count": 1,
   "metadata": {},
   "outputs": [],
   "source": [
    "import numpy as np\n",
    "import matplotlib.pyplot as plt"
   ]
  },
  {
   "cell_type": "code",
   "execution_count": 2,
   "metadata": {},
   "outputs": [
    {
     "data": {
      "image/png": "[encoded data removed]",
      "text/plain": [
       "<Figure size 432x288 with 1 Axes>"
      ]
     },
     "metadata": {
      "needs_background": "light"
     },
     "output_type": "display_data"
    }
   ],
   "source": [
    "x_n = [-2]\n",
    "y_n = [2]\n",
    "x_b = [-2,0,0,2,2,2,-2]\n",
    "y_b = [0,-2,2,0,2,-2,-2]\n",
    "x_f = [-2,-1]\n",
    "y_f = [1,2]\n",
    "plt.title(\"ejercicio1\")\n",
    "plt.xlabel(\"Valor X\")\n",
    "plt.ylabel(\"Valor y\")\n",
    "\n",
    "plt.plot(x_n,y_n, linestyle=\"none\", marker=\"o\", color=\"red\")\n",
    "plt.plot(x_b,y_b, linestyle=\"none\", marker=\"x\", color=\"blue\")\n",
    "plt.plot(x_f,y_f, color=\"black\")\n",
    "\n",
    "plt.grid()\n",
    "plt.show()\n"
   ]
  },
  {
   "cell_type": "code",
   "execution_count": 3,
   "metadata": {},
   "outputs": [
    {
     "name": "stdout",
     "output_type": "stream",
     "text": [
      "la pendiente es: 1.0\n",
      "El sesgo de bayas es: 3.0\n"
     ]
    }
   ],
   "source": [
    "#y-y1 = m(x-x1)+b\n",
    "#e = t - hardlims(n)\n",
    "#n = W.P+b\n",
    "\n",
    "def hallarm():\n",
    "    return (y_f[1]-y_f[0])/(x_f[1]-x_f[0])\n",
    "    \n",
    "def hallarb():\n",
    "    return y_f[0]-((hallarm())*(x_f[0]))\n",
    "\n",
    "#print((y_f[1]-y_f[0])/(x_f[1]-x_f[0]))\n",
    "\n",
    "print(\"la pendiente es: \"+str(hallarm()))\n",
    "print(\"El sesgo de bayas es: \"+str(hallarb()))\n"
   ]
  }
 ],
 "metadata": {
  "kernelspec": {
   "display_name": "Python 3",
   "language": "python",
   "name": "python3"
  },
  "language_info": {
   "codemirror_mode": {
    "name": "ipython",
    "version": 3
   },
   "file_extension": ".py",
   "mimetype": "text/x-python",
   "name": "python",
   "nbconvert_exporter": "python",
   "pygments_lexer": "ipython3",
   "version": "3.7.3"
  }
 },
 "nbformat": 4,
 "nbformat_minor": 2
}
