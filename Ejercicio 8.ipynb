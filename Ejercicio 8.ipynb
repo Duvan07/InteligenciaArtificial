{
 "cells": [
  {
   "cell_type": "code",
   "execution_count": 1,
   "metadata": {},
   "outputs": [],
   "source": [
    "import numpy as np\n",
    "import matplotlib.pyplot as plt"
   ]
  },
  {
   "cell_type": "code",
   "execution_count": 2,
   "metadata": {},
   "outputs": [
    {
     "data": {
      "image/png": "[encoded data removed]",
      "text/plain": [
       "<Figure size 432x288 with 1 Axes>"
      ]
     },
     "metadata": {
      "needs_background": "light"
     },
     "output_type": "display_data"
    }
   ],
   "source": [
    "x_n = [0,-2,-2,-2,2]\n",
    "y_n = [2,2,2,-2,2]\n",
    "t_n = [1,1,1,1,1]\n",
    "\n",
    "x_b = [0,2,2]\n",
    "y_b = [-2,-2,0]\n",
    "t_b = [0,0,0]\n",
    "\n",
    "x_f = [-2,3]\n",
    "y_f = [-3,2]\n",
    "\n",
    "\n",
    "plt.title(\"ejercicio1\")\n",
    "plt.xlabel(\"Valor X\")\n",
    "plt.ylabel(\"Valor y\")\n",
    "\n",
    "plt.plot(x_n,y_n, linestyle=\"none\", marker=\"o\", color=\"red\")\n",
    "plt.plot(x_b,y_b, linestyle=\"none\", marker=\"x\", color=\"blue\")\n",
    "\n",
    "plt.plot(x_f,y_f, color=\"black\")\n",
    "\n",
    "plt.grid()\n",
    "plt.show()"
   ]
  },
  {
   "cell_type": "code",
   "execution_count": 7,
   "metadata": {},
   "outputs": [
    {
     "name": "stdout",
     "output_type": "stream",
     "text": [
      "la pendiente es: 1.0\n",
      "El sesgo de bayas es: -1.0\n",
      "El error del punto 1 negro es: 2\n",
      "El error del punto 2 negro es: 2\n",
      "El error del punto 3 negro es: 2\n",
      "El error del punto 4 negro es: 2\n",
      "El error del punto 5 negro es: 2\n",
      "El error del punto 1 blanco es: -1\n",
      "El error del punto 2 blanco es: -1\n",
      "El error del punto 3 blanco es: -1\n"
     ]
    }
   ],
   "source": [
    "#y-y1 = m(x-x1)+b\n",
    "#e = t - hardlims(n)\n",
    "#n = W.P+b\n",
    "\n",
    "#funcion para hayar la pendiente\n",
    "def hallarm():\n",
    "    return (y_f[1]-y_f[0])/(x_f[1]-x_f[0])\n",
    "#Funcion para hayar el sesgo de bayas\n",
    "def hallarb():\n",
    "    return y_f[0]-((hallarm())*(x_f[0]))\n",
    "\n",
    "#Funcion de activacion hardlims    \n",
    "def FuncionActivacion(n):\n",
    "    if n >=0:\n",
    "        return 1\n",
    "    else:\n",
    "        return -1\n",
    "\n",
    "#Funcion para hayar el error\n",
    "def hallarError(x,y,SE):\n",
    "    pesoNeto = ((hallarm()*x)+(-1*y))+hallarb()\n",
    "    error = SE-(FuncionActivacion(pesoNeto))\n",
    "    return error\n",
    "    \n",
    "\n",
    "\n",
    "print(\"la pendiente es: \"+str(hallarm()))\n",
    "print(\"El sesgo de bayas es: \"+str(hallarb()))\n",
    "num = len(x_n)\n",
    "for i in range(num):\n",
    "    print(\"El error del punto \"+str(i+1)+\" negro es: \"+str(hallarError(x_n[i],y_n[i],t_n[i])))\n",
    "    \n",
    "    \n",
    "num = len(x_b)\n",
    "for i in range(num):\n",
    "    print(\"El error del punto \"+str(i+1)+\" blanco es: \"+str(hallarError(x_b[i],y_b[i],t_b[i])))\n"
   ]
  }
 ],
 "metadata": {
  "kernelspec": {
   "display_name": "Python 3",
   "language": "python",
   "name": "python3"
  },
  "language_info": {
   "codemirror_mode": {
    "name": "ipython",
    "version": 3
   },
   "file_extension": ".py",
   "mimetype": "text/x-python",
   "name": "python",
   "nbconvert_exporter": "python",
   "pygments_lexer": "ipython3",
   "version": "3.7.3"
  }
 },
 "nbformat": 4,
 "nbformat_minor": 2
}
