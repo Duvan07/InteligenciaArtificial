{
 "cells": [
  {
   "cell_type": "code",
   "execution_count": 5,
   "metadata": {},
   "outputs": [],
   "source": [
    "import numpy as np\n",
    "import matplotlib.pyplot as plt"
   ]
  },
  {
   "cell_type": "code",
   "execution_count": 6,
   "metadata": {},
   "outputs": [],
   "source": [
    "Forma = [1,1]\n",
    "Textura = [-1,1]\n",
    "Peso = [-1,-1]\n",
    "SalidaEsperada = [0,1]\n",
    "\n",
    "wNuevo = [0.5,-1,-0.5]\n",
    "bNuevo = 0.5"
   ]
  },
  {
   "cell_type": "code",
   "execution_count": 8,
   "metadata": {},
   "outputs": [],
   "source": [
    "#Funcion que me retorna el valor de HardLim\n",
    "def FuncionHardLim(PesoNeto):\n",
    "    if PesoNeto > 0:\n",
    "        return 1\n",
    "    else:\n",
    "        return 0\n",
    "    \n",
    "def calcularError(Punto, t):\n",
    "    global wNuevo\n",
    "    #guardo en variable el arreglo en np\n",
    "    punto = np.array(Punto)\n",
    "    w = np.array(wNuevo)\n",
    "    #multiplico el punto por el peso\n",
    "    Pn =(w*punto)\n",
    "    #sumo los items del array\n",
    "    sum = np.sum(Pn)\n",
    "    #sumo con el Sesgo de Bayas\n",
    "    Pn = sum+bNuevo\n",
    "    #hallo el error con la funcion de activacion\n",
    "    error = t-(FuncionHardLim(Pn))\n",
    "    return error\n",
    "\n",
    "def AlgoritmoAprendizaje(w,e,p):\n",
    "    global wNuevo\n",
    "    global bNuevo\n",
    "    #guardo en variable el arreglo con np\n",
    "    wNuevo = np.array(w)\n",
    "    punto = np.array(p)\n",
    "    #Multimplico el punto con el error y le sumo el Peso\n",
    "    wNuevo = (wNuevo)+(punto*e)\n",
    "    bNuevo = bNuevo + e\n",
    "    #print(\"WNuevo:\"+str(wNuevo))\n",
    "   "
   ]
  },
  {
   "cell_type": "code",
   "execution_count": 9,
   "metadata": {},
   "outputs": [
    {
     "name": "stdout",
     "output_type": "stream",
     "text": [
      "El Peso W apropiado es:[-0.5  2.   0.5]\n",
      "El Bias b apropiado es:-0.5\n"
     ]
    }
   ],
   "source": [
    "Error = True\n",
    "NumPuntos = len(Forma)\n",
    "conteoAciertos=0\n",
    "#el ciclo while nos ayuda a que sea infinito hasta que se halle la solucion \n",
    "while Error:\n",
    "    #con el ciclo for recorro los puntos\n",
    "    for i in range(NumPuntos):\n",
    "        arr = []\n",
    "        #agrego los datos al punto indicado eje: p=[1,1,-1]\n",
    "        arr.append(Forma[i])\n",
    "        arr.append(Textura[i])\n",
    "        arr.append(Peso[i])\n",
    "        #Envio a funcion para calcular el error y retorna un valor, se envia el punto y la salida esperada\n",
    "        err = calcularError(arr,SalidaEsperada[i])\n",
    "        #pregunto que si el error calculado es diferente de 0\n",
    "        if err != 0:\n",
    "            #si es diferente de 0, es porque todavia existe un error, asi que pasa por el algoritmo de aprendizaje\n",
    "            conteoAciertos=0\n",
    "            AlgoritmoAprendizaje(wNuevo,err,arr)\n",
    "        else:\n",
    "            #entra en el else cuando no se encuentra error en el punto indicado\n",
    "            conteoAciertos = conteoAciertos+1\n",
    "            #pregunto que si el conteoaciertos es igual al numero de puntos, asi me doy cuenta que ya en ninuna entrada se hallaron errores\n",
    "            if conteoAciertos == NumPuntos:\n",
    "                #con la variable False, se saldra del while\n",
    "                Error = False\n",
    "        \n",
    "print(\"El Peso W apropiado es:\"+str(wNuevo))\n",
    "print(\"El Bias b apropiado es:\"+str(bNuevo))\n",
    "\n"
   ]
  },
  {
   "cell_type": "code",
   "execution_count": null,
   "metadata": {},
   "outputs": [],
   "source": []
  }
 ],
 "metadata": {
  "kernelspec": {
   "display_name": "Python 3",
   "language": "python",
   "name": "python3"
  },
  "language_info": {
   "codemirror_mode": {
    "name": "ipython",
    "version": 3
   },
   "file_extension": ".py",
   "mimetype": "text/x-python",
   "name": "python",
   "nbconvert_exporter": "python",
   "pygments_lexer": "ipython3",
   "version": "3.7.3"
  }
 },
 "nbformat": 4,
 "nbformat_minor": 2
}
